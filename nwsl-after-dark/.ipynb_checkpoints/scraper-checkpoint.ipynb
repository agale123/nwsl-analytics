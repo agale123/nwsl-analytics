{
 "cells": [
  {
   "cell_type": "code",
   "execution_count": 10,
   "metadata": {},
   "outputs": [],
   "source": [
    "import requests\n",
    "import json\n",
    "import pandas as pd\n",
    "import datetime as dt"
   ]
  },
  {
   "cell_type": "code",
   "execution_count": 11,
   "metadata": {},
   "outputs": [],
   "source": [
    "# Read stats from NWSL website\n",
    "stats_columns = ['Home Goals', 'Away Goals', 'Home Fouls', 'Away Fouls', 'Home Yellow Cards', 'Away Yellow Cards', 'Home Red Cards', 'Away Red Cards']\n",
    "\n",
    "def read_stats(url):\n",
    "    page = requests.get(url)\n",
    "    response = json.loads(page.content)\n",
    "\n",
    "    home_stats = response['data']['team']['stats']\n",
    "    away_stats = response['data']['opponent']['stats']\n",
    "    results = response['data']['results']\n",
    "\n",
    "    return [\n",
    "        results['team_score'],\n",
    "        results['opponent_score'],\n",
    "        home_stats['fouls'],\n",
    "        away_stats['fouls'],\n",
    "        home_stats['yellow_cards'],\n",
    "        away_stats['yellow_cards'],\n",
    "        home_stats['red_cards'],\n",
    "        away_stats['red_cards']\n",
    "    ]"
   ]
  },
  {
   "cell_type": "code",
   "execution_count": 12,
   "metadata": {},
   "outputs": [
    {
     "data": {
      "text/html": [
       "<div>\n",
       "<style scoped>\n",
       "    .dataframe tbody tr th:only-of-type {\n",
       "        vertical-align: middle;\n",
       "    }\n",
       "\n",
       "    .dataframe tbody tr th {\n",
       "        vertical-align: top;\n",
       "    }\n",
       "\n",
       "    .dataframe thead th {\n",
       "        text-align: right;\n",
       "    }\n",
       "</style>\n",
       "<table border=\"1\" class=\"dataframe\">\n",
       "  <thead>\n",
       "    <tr style=\"text-align: right;\">\n",
       "      <th></th>\n",
       "      <th>Date</th>\n",
       "      <th>Home Team</th>\n",
       "      <th>Away Team</th>\n",
       "      <th>Home Goals</th>\n",
       "      <th>Away Goals</th>\n",
       "      <th>Home Fouls</th>\n",
       "      <th>Away Fouls</th>\n",
       "      <th>Home Yellow Cards</th>\n",
       "      <th>Away Yellow Cards</th>\n",
       "      <th>Home Red Cards</th>\n",
       "      <th>Away Red Cards</th>\n",
       "    </tr>\n",
       "  </thead>\n",
       "  <tbody>\n",
       "  </tbody>\n",
       "</table>\n",
       "</div>"
      ],
      "text/plain": [
       "Empty DataFrame\n",
       "Columns: [Date, Home Team, Away Team, Home Goals, Away Goals, Home Fouls, Away Fouls, Home Yellow Cards, Away Yellow Cards, Home Red Cards, Away Red Cards]\n",
       "Index: []"
      ]
     },
     "execution_count": 12,
     "metadata": {},
     "output_type": "execute_result"
    }
   ],
   "source": [
    "# Generate dataframe from \n",
    "cols = ['Date', 'Home Team', 'Away Team', 'Home Goals', 'Away Goals', 'Home Fouls', 'Away Fouls', 'Home Yellow Cards', 'Away Yellow Cards', 'Home Red Cards', 'Away Red Cards']\n",
    "df = pd.DataFrame([], columns=cols)\n",
    "df"
   ]
  },
  {
   "cell_type": "code",
   "execution_count": 13,
   "metadata": {},
   "outputs": [],
   "source": [
    "# Read in FBRef data and input it into the dataframe\n",
    "df_fbref = pd.read_csv('matches_fbref.csv')\n",
    "df_fbref.dropna(subset=['Score'],inplace=True)\n",
    "df_fbref['Local Time'] = df_fbref['Time'].str.split(' ').str[0]\n",
    "df_fbref['Date'] = pd.to_datetime(df_fbref['Date'] + ' ' + df_fbref['Local Time'])\n",
    "df_fbref.rename(columns={'Home': 'Home Team', 'Away': 'Away Team'}, inplace=True)"
   ]
  },
  {
   "cell_type": "code",
   "execution_count": 14,
   "metadata": {},
   "outputs": [],
   "source": [
    "# Create mapping from team to URL param\n",
    "mapping = {\n",
    "    'Chicago': 'chicago-red-stars',\n",
    "    'Washington': 'washington-spirit',\n",
    "    'Reign': 'ol-reign',\n",
    "    'North Carolina': 'north-carolina-courage',\n",
    "    'Houston': 'houston-dash',\n",
    "    'Racing Louisville': 'racing-louisville-fc',\n",
    "    'Gotham FC': 'nj-ny-gotham-fc',\n",
    "    'Kansas City': 'kansas-city',\n",
    "    'Orlando': 'orlando-pride',\n",
    "    'Portland': 'portland-thorns-fc',\n",
    "}"
   ]
  },
  {
   "cell_type": "code",
   "execution_count": 15,
   "metadata": {},
   "outputs": [],
   "source": [
    "# Generate URLs for loading data and add it to df\n",
    "for index, row in df_fbref.iterrows():\n",
    "    param = mapping[row['Home Team']] + '-vs-' + mapping[row['Away Team']] + '-' + row['Date'].strftime('%Y-%m-%d')\n",
    "    url = 'https://d2nkt8hgeld8zj.cloudfront.net/services/nwsl.ashx/match?slug=' + param\n",
    "    out = read_stats(url)\n",
    "    df = df.append(pd.DataFrame([[row['Date'], row['Home Team'], row['Away Team']] + out], columns=cols))"
   ]
  },
  {
   "cell_type": "code",
   "execution_count": 16,
   "metadata": {},
   "outputs": [],
   "source": [
    "df.to_csv('matches.csv', index=False)"
   ]
  },
  {
   "cell_type": "code",
   "execution_count": null,
   "metadata": {},
   "outputs": [],
   "source": []
  },
  {
   "cell_type": "code",
   "execution_count": null,
   "metadata": {},
   "outputs": [],
   "source": []
  }
 ],
 "metadata": {
  "kernelspec": {
   "display_name": "Python 3",
   "language": "python",
   "name": "python3"
  },
  "language_info": {
   "codemirror_mode": {
    "name": "ipython",
    "version": 3
   },
   "file_extension": ".py",
   "mimetype": "text/x-python",
   "name": "python",
   "nbconvert_exporter": "python",
   "pygments_lexer": "ipython3",
   "version": "3.8.2"
  }
 },
 "nbformat": 4,
 "nbformat_minor": 4
}
